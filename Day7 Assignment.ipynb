{
 "cells": [
  {
   "cell_type": "markdown",
   "id": "c9d13d20-2241-4aac-ace1-768c99ff23ba",
   "metadata": {},
   "source": [
    "# 1.Load and Explore the Data\n",
    "Load the sales_data.csv file using Pandas.\n",
    "Display the first 5 rows of the dataset.\n",
    "Print basic statistics (mean, median, min, max, etc.) of the numerical columns using .describe().\n"
   ]
  },
  {
   "cell_type": "code",
   "execution_count": 5,
   "id": "bd2c9554-bca6-4c8c-9ef5-13837e483fc2",
   "metadata": {},
   "outputs": [
    {
     "name": "stdout",
     "output_type": "stream",
     "text": [
      "First 5 rows of the dataset:\n",
      "         Date Product Region    Sales  Profit  Quantity\n",
      "0  2023-01-02  Tablet   East  1061.81  236.12         7\n",
      "1  2023-01-06  Laptop  North  1926.07  246.34         8\n",
      "2  2023-01-03  Tablet   East  1597.99  253.17         3\n",
      "3  2023-01-20  Tablet  North  1397.99  242.23         1\n",
      "4  2023-01-04  Laptop   West   734.03  140.36         4\n",
      "\n",
      "Basic statistics of numerical columns:\n",
      "             Sales      Profit   Quantity\n",
      "count    20.000000   20.000000  20.000000\n",
      "mean   1186.553000  211.533000   5.050000\n",
      "std     461.528444   66.916251   2.543826\n",
      "min     530.880000   82.160000   1.000000\n",
      "25%     774.517500  166.515000   2.750000\n",
      "50%    1104.865000  214.670000   5.000000\n",
      "75%    1571.080000  248.047500   7.250000\n",
      "max    1954.860000  364.970000   9.000000\n"
     ]
    }
   ],
   "source": [
    "import pandas as pd\n",
    "\n",
    "df = pd.read_csv('Day_7_sales_data.csv')\n",
    "print(\"First 5 rows of the dataset:\")\n",
    "print(df.head())\n",
    "print() \n",
    "print(\"Basic statistics of numerical columns:\")\n",
    "print(df.describe())\n"
   ]
  },
  {
   "cell_type": "markdown",
   "id": "96b9b918-379a-4ca9-bf3d-4dbd2fb94bac",
   "metadata": {},
   "source": [
    "# 2.Data Analysis\n",
    "Calculate the total sales for each region.\n",
    "Find the most sold product (based on quantity).\n",
    "Compute the average profit margin for each product. (Profit margin = Profit / Sales * 100)\n"
   ]
  },
  {
   "cell_type": "code",
   "execution_count": 10,
   "id": "90d6ca38-4307-4f40-98a4-eb5648ef7e79",
   "metadata": {},
   "outputs": [
    {
     "name": "stdout",
     "output_type": "stream",
     "text": [
      "Total sales for each region:\n",
      "Region\n",
      "East      5818.93\n",
      "North    10449.68\n",
      "South      936.84\n",
      "West      6525.61\n",
      "Name: Sales, dtype: float64\n",
      "\n",
      "The most sold product (based on quantity) is: Tablet\n",
      "\n",
      "Average profit margin for each product:\n",
      "Product\n",
      "Keyboard      20.080696\n",
      "Laptop        17.112734\n",
      "Monitor       15.134989\n",
      "Smartphone    23.703647\n",
      "Tablet        19.955758\n",
      "Name: Profit Margin, dtype: float64\n"
     ]
    }
   ],
   "source": [
    "import pandas as pd\n",
    "\n",
    "df = pd.read_csv('Day_7_sales_data.csv')\n",
    "\n",
    "total_sales_per_region = df.groupby('Region')['Sales'].sum()\n",
    "print(\"Total sales for each region:\")\n",
    "print(total_sales_per_region)\n",
    "print()  \n",
    "most_sold_product = df.groupby('Product')['Quantity'].sum().idxmax()\n",
    "print(f\"The most sold product (based on quantity) is: {most_sold_product}\")\n",
    "print() \n",
    "df['Profit Margin'] = (df['Profit'] / df['Sales']) * 100\n",
    "\n",
    "average_profit_margin_per_product = df.groupby('Product')['Profit Margin'].mean()\n",
    "print(\"Average profit margin for each product:\")\n",
    "print(average_profit_margin_per_product)\n"
   ]
  },
  {
   "cell_type": "code",
   "execution_count": null,
   "id": "ac2ad66a-e094-4431-a24b-ec119f8e457a",
   "metadata": {},
   "outputs": [],
   "source": []
  }
 ],
 "metadata": {
  "kernelspec": {
   "display_name": "Python [conda env:base] *",
   "language": "python",
   "name": "conda-base-py"
  },
  "language_info": {
   "codemirror_mode": {
    "name": "ipython",
    "version": 3
   },
   "file_extension": ".py",
   "mimetype": "text/x-python",
   "name": "python",
   "nbconvert_exporter": "python",
   "pygments_lexer": "ipython3",
   "version": "3.12.7"
  }
 },
 "nbformat": 4,
 "nbformat_minor": 5
}
