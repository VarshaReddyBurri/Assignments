{
 "cells": [
  {
   "cell_type": "markdown",
   "id": "3d7d8346-9212-4acf-b20f-ea813e28eb2e",
   "metadata": {},
   "source": [
    "## 2) Create a List, tuple and Dictionary with 5 elements in it and how to access few elements based on the index. Try  with different examples "
   ]
  },
  {
   "cell_type": "code",
   "execution_count": null,
   "id": "cb244b4b-6515-4649-9692-87b502b9c908",
   "metadata": {},
   "outputs": [],
   "source": [
    "## LIST"
   ]
  },
  {
   "cell_type": "code",
   "execution_count": 1,
   "id": "94ff5381-25e1-47b4-b180-064e37f12fdf",
   "metadata": {},
   "outputs": [
    {
     "name": "stdout",
     "output_type": "stream",
     "text": [
      "First element: 10\n",
      "Third element: 30\n",
      "Last element: 50\n"
     ]
    }
   ],
   "source": [
    "\n",
    "my_list = [10, 20, 30, 40, 50]\n",
    "\n",
    "first_element = my_list[0]  \n",
    "third_element = my_list[2]  \n",
    "last_element = my_list[-1]  \n",
    "\n",
    "print(\"First element:\", first_element)\n",
    "print(\"Third element:\", third_element)\n",
    "print(\"Last element:\", last_element)\n"
   ]
  },
  {
   "cell_type": "code",
   "execution_count": 3,
   "id": "34529e61-0261-4a4a-a215-9862e2b193b0",
   "metadata": {},
   "outputs": [],
   "source": [
    "## TUPLE"
   ]
  },
  {
   "cell_type": "code",
   "execution_count": 5,
   "id": "68105ae0-d635-481c-9552-17fd40d08521",
   "metadata": {},
   "outputs": [
    {
     "name": "stdout",
     "output_type": "stream",
     "text": [
      "Second element: banana\n",
      "Fourth element: date\n",
      "Second-to-last element: date\n"
     ]
    }
   ],
   "source": [
    "\n",
    "my_tuple = ('apple', 'banana', 'cherry', 'date', 'elderberry')\n",
    "\n",
    "second_element = my_tuple[1]  \n",
    "fourth_element = my_tuple[3]  \n",
    "negative_index_element = my_tuple[-2] \n",
    "\n",
    "print(\"Second element:\", second_element)\n",
    "print(\"Fourth element:\", fourth_element)\n",
    "print(\"Second-to-last element:\", negative_index_element)\n"
   ]
  },
  {
   "cell_type": "code",
   "execution_count": 7,
   "id": "59981d79-31b1-4982-bbc9-de46f0c72a7e",
   "metadata": {},
   "outputs": [],
   "source": [
    "## DICTIONARY"
   ]
  },
  {
   "cell_type": "code",
   "execution_count": 9,
   "id": "7fdccd4d-e347-4c1e-b5fa-3b635e9d50e6",
   "metadata": {},
   "outputs": [
    {
     "name": "stdout",
     "output_type": "stream",
     "text": [
      "Name: John\n",
      "City: New York\n",
      "Job: Engineer\n"
     ]
    }
   ],
   "source": [
    "my_dict = {\n",
    "    'name': 'John',\n",
    "    'age': 25,\n",
    "    'city': 'New York',\n",
    "    'job': 'Engineer',\n",
    "    'hobby': 'Reading'\n",
    "}\n",
    "\n",
    "name_value = my_dict['name'] \n",
    "city_value = my_dict['city'] \n",
    "job_value = my_dict['job'] \n",
    "\n",
    "print(\"Name:\", name_value)\n",
    "print(\"City:\", city_value)\n",
    "print(\"Job:\", job_value)\n"
   ]
  },
  {
   "cell_type": "code",
   "execution_count": null,
   "id": "11d4f51e-dc03-4674-9c6e-3fccd6e683cc",
   "metadata": {},
   "outputs": [],
   "source": []
  }
 ],
 "metadata": {
  "kernelspec": {
   "display_name": "Python [conda env:base] *",
   "language": "python",
   "name": "conda-base-py"
  },
  "language_info": {
   "codemirror_mode": {
    "name": "ipython",
    "version": 3
   },
   "file_extension": ".py",
   "mimetype": "text/x-python",
   "name": "python",
   "nbconvert_exporter": "python",
   "pygments_lexer": "ipython3",
   "version": "3.12.7"
  }
 },
 "nbformat": 4,
 "nbformat_minor": 5
}
