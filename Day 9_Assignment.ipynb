{
 "cells": [
  {
   "cell_type": "markdown",
   "id": "1eea4b1b-2983-4315-a076-b4fda2af8be5",
   "metadata": {},
   "source": [
    "# Assignment 1: Data Exploration\n",
    "Tasks:\n",
    "Load the banking_data.csv file using Pandas.\n",
    "Display the first 5 rows of the dataset.\n",
    "Use .describe() to generate basic statistics of the numerical columns (e.g., Transaction_Amount, Account_Balance).\n",
    "Check for missing values in the dataset.\n",
    "Objective:\n",
    "Understand how to load and inspect the dataset.\n",
    "Use basic descriptive statistics and data integrity checks.\n"
   ]
  },
  {
   "cell_type": "code",
   "execution_count": 3,
   "id": "936052b0-8f17-46e2-9a94-0950203888a9",
   "metadata": {},
   "outputs": [
    {
     "name": "stdout",
     "output_type": "stream",
     "text": [
      "         Date       Account_Type    Branch Transaction_Type  \\\n",
      "0  2023-01-19      Fixed Deposit   Central     Loan Payment   \n",
      "1  2023-01-16            Current    Uptown       Withdrawal   \n",
      "2  2023-01-10            Current    Uptown     Loan Payment   \n",
      "3  2023-01-18            Savings    Uptown     Loan Payment   \n",
      "4  2023-01-14  Recurring Deposit  Suburban     Loan Payment   \n",
      "\n",
      "   Transaction_Amount  Account_Balance  \n",
      "0              985.51          6839.59  \n",
      "1              641.43          8908.39  \n",
      "2             3363.85         12428.67  \n",
      "3             1914.60          5776.63  \n",
      "4             2788.57          4779.04  \n",
      "       Transaction_Amount  Account_Balance\n",
      "count           20.000000        20.000000\n",
      "mean          2705.829500      7967.766500\n",
      "std           1429.829787      2770.248821\n",
      "min            641.430000      2592.160000\n",
      "25%           1482.085000      6460.127500\n",
      "50%           2567.645000      7905.275000\n",
      "75%           4121.525000      9127.702500\n",
      "max           4683.640000     12836.510000\n",
      "Date                  0\n",
      "Account_Type          0\n",
      "Branch                0\n",
      "Transaction_Type      0\n",
      "Transaction_Amount    0\n",
      "Account_Balance       0\n",
      "dtype: int64\n"
     ]
    }
   ],
   "source": [
    "import pandas as pd\n",
    "df = pd.read_csv('Day_9_banking_data.csv')\n",
    "print(df.head())\n",
    "print(df.describe())\n",
    "print(df.isnull().sum())\n"
   ]
  },
  {
   "cell_type": "markdown",
   "id": "7fbae0dc-71e9-48a9-ade1-524b3406e5bf",
   "metadata": {},
   "source": [
    "# Assignment 2: Data Aggregation and Grouping\n",
    "Tasks:\n",
    "Group the data by Account_Type and calculate:\n",
    "The total sum of Transaction_Amount.\n",
    "The average Account_Balance for each account type.\n",
    "Group the data by Branch and calculate:\n",
    "The total number of transactions per branch.\n",
    "The average transaction amount per branch.\n",
    "Objective:\n",
    "Learn to use groupby() for aggregating data by categories.\n",
    "Gain skills in calculating grouped statistics.\n"
   ]
  },
  {
   "cell_type": "code",
   "execution_count": 5,
   "id": "7092913f-0399-44b4-a282-f54ae17b34d3",
   "metadata": {},
   "outputs": [
    {
     "name": "stdout",
     "output_type": "stream",
     "text": [
      "                   total_transaction_amount  average_account_balance\n",
      "Account_Type                                                        \n",
      "Current                            15052.57              9893.404000\n",
      "Fixed Deposit                      14102.59              6120.380000\n",
      "Recurring Deposit                  15179.99              7627.283333\n",
      "Savings                             9781.44              9134.110000\n",
      "          total_transactions  average_transaction_amount\n",
      "Branch                                                  \n",
      "Central                    8                 2942.338750\n",
      "Downtown                   3                 3188.703333\n",
      "Suburban                   5                 2773.278000\n",
      "Uptown                     4                 1786.345000\n"
     ]
    }
   ],
   "source": [
    "account_type_group = df.groupby('Account_Type').agg(\n",
    "    total_transaction_amount=('Transaction_Amount', 'sum'),\n",
    "    average_account_balance=('Account_Balance', 'mean')\n",
    ")\n",
    "print(account_type_group)\n",
    "\n",
    "branch_group = df.groupby('Branch').agg(\n",
    "    total_transactions=('Transaction_Amount', 'count'),\n",
    "    average_transaction_amount=('Transaction_Amount', 'mean')\n",
    ")\n",
    "print(branch_group)\n"
   ]
  },
  {
   "cell_type": "code",
   "execution_count": null,
   "id": "64d7e603-c0cb-4c43-be20-0a81e902e3a0",
   "metadata": {},
   "outputs": [],
   "source": []
  }
 ],
 "metadata": {
  "kernelspec": {
   "display_name": "Python [conda env:base] *",
   "language": "python",
   "name": "conda-base-py"
  },
  "language_info": {
   "codemirror_mode": {
    "name": "ipython",
    "version": 3
   },
   "file_extension": ".py",
   "mimetype": "text/x-python",
   "name": "python",
   "nbconvert_exporter": "python",
   "pygments_lexer": "ipython3",
   "version": "3.12.7"
  }
 },
 "nbformat": 4,
 "nbformat_minor": 5
}
