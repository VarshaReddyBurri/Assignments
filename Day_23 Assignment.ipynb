{
 "cells": [
  {
   "cell_type": "markdown",
   "id": "0536c993-4bfd-41d8-b5ce-5c45c78f1db8",
   "metadata": {},
   "source": [
    "### Using the same data set of Civil_Engineering_Regression_Dataset.csv\n",
    "\n",
    "Part 3: Multiple Linear Regression\n",
    "Fit a multiple linear regression model using Building Height, Material Quality, Labor Cost, Concrete Strength, and Foundation Depth as independent variables.\n",
    "What is the equation of the multiple regression model?\n",
    "Which independent variable has the highest impact on Construction Cost based on the regression coefficients?"
   ]
  },
  {
   "cell_type": "code",
   "execution_count": 8,
   "id": "4433d682-2f14-45bf-9386-b11e215fc4c7",
   "metadata": {},
   "outputs": [
    {
     "name": "stdout",
     "output_type": "stream",
     "text": [
      "First few rows of the dataset:\n",
      "   Project_ID  Building_Height  Material_Quality_Index  Labor_Cost  \\\n",
      "0           1        21.854305                       9   70.213332   \n",
      "1           2        47.782144                       9  142.413614   \n",
      "2           3        37.939727                       3  110.539985   \n",
      "3           4        31.939632                       6  250.784939   \n",
      "4           5        12.020839                       7  167.575159   \n",
      "\n",
      "   Concrete_Strength  Foundation_Depth  Weather_Index  Construction_Cost  \n",
      "0          45.326394          8.804790              4        2400.287931  \n",
      "1          47.900505          6.727632              6        3705.461312  \n",
      "2          22.112484          8.208544              8        2653.631004  \n",
      "3          26.267562          7.094515              4        2534.099466  \n",
      "4          40.134306          6.160303              6        1741.179333  \n",
      "\n",
      "Equation of multiple regression model:\n",
      "Construction Cost = -9.64 + (49.81 * Building_Height) + (10.33 * Material_Quality_Index) + (0.53 * Labor_Cost) + (20.20 * Concrete_Strength) + (30.14 * Foundation_Depth)\n",
      "\n",
      "Variable with highest impact: Building_Height (49.81 impact on Construction Cost)\n",
      "\n",
      "Model Performance:\n",
      "R-squared: 0.9998\n",
      "Mean Squared Error: 113.5044\n"
     ]
    }
   ],
   "source": [
    "import pandas as pd\n",
    "import numpy as np\n",
    "import seaborn as sns\n",
    "import matplotlib.pyplot as plt\n",
    "from sklearn.model_selection import train_test_split\n",
    "from sklearn.linear_model import LinearRegression\n",
    "from sklearn.metrics import mean_squared_error, r2_score\n",
    "\n",
    "# Load the dataset\n",
    "df = pd.read_csv(\"Civil_Engineering_Regression_Dataset.csv\")\n",
    "\n",
    "# Trim whitespace from column names\n",
    "df.columns = df.columns.str.strip()\n",
    "\n",
    "# Display first few rows\n",
    "print(\"First few rows of the dataset:\")\n",
    "print(df.head())\n",
    "\n",
    "# Identify independent and dependent variables\n",
    "dependent_variable = \"Construction_Cost\"\n",
    "independent_variables = [\"Building_Height\", \"Material_Quality_Index\", \"Labor_Cost\", \"Concrete_Strength\", \"Foundation_Depth\"]\n",
    "\n",
    "# Check if required columns exist\n",
    "missing_columns = [col for col in independent_variables + [dependent_variable] if col not in df.columns]\n",
    "if missing_columns:\n",
    "    print(\"Error: The following required columns are missing:\", missing_columns)\n",
    "else:\n",
    "    # Prepare data for regression\n",
    "    X = df[independent_variables]  # Independent variables\n",
    "    y = df[dependent_variable]  # Dependent variable\n",
    "    \n",
    "    # Split data into training and testing sets\n",
    "    X_train, X_test, y_train, y_test = train_test_split(X, y, test_size=0.2, random_state=42)\n",
    "    \n",
    "    # Fit multiple linear regression model\n",
    "    model = LinearRegression()\n",
    "    model.fit(X_train, y_train)\n",
    "    \n",
    "    # Get regression coefficients\n",
    "    intercept = model.intercept_\n",
    "    coefficients = dict(zip(independent_variables, model.coef_))\n",
    "    print(\"\\nEquation of multiple regression model:\")\n",
    "    print(f\"Construction Cost = {intercept:.2f} \" + \" \".join([f\"+ ({coeff:.2f} * {var})\" for var, coeff in coefficients.items()]))\n",
    "    \n",
    "    # Identify the most impactful variable\n",
    "    most_impactful_variable = max(coefficients, key=coefficients.get, default=None)\n",
    "    print(f\"\\nVariable with highest impact: {most_impactful_variable} ({coefficients[most_impactful_variable]:.2f} impact on Construction Cost)\")\n",
    "    \n",
    "    # Evaluate model performance\n",
    "    y_pred = model.predict(X_test)\n",
    "    r_squared = r2_score(y_test, y_pred)\n",
    "    mse = mean_squared_error(y_test, y_pred)\n",
    "    print(\"\\nModel Performance:\")\n",
    "    print(f\"R-squared: {r_squared:.4f}\")\n",
    "    print(f\"Mean Squared Error: {mse:.4f}\")"
   ]
  },
  {
   "cell_type": "code",
   "execution_count": null,
   "id": "1f86af9c-2ca0-4cbb-950e-14018a8315a2",
   "metadata": {},
   "outputs": [],
   "source": []
  }
 ],
 "metadata": {
  "kernelspec": {
   "display_name": "Python [conda env:base] *",
   "language": "python",
   "name": "conda-base-py"
  },
  "language_info": {
   "codemirror_mode": {
    "name": "ipython",
    "version": 3
   },
   "file_extension": ".py",
   "mimetype": "text/x-python",
   "name": "python",
   "nbconvert_exporter": "python",
   "pygments_lexer": "ipython3",
   "version": "3.12.7"
  }
 },
 "nbformat": 4,
 "nbformat_minor": 5
}
