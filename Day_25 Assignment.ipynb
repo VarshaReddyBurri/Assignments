{
 "cells": [
  {
   "cell_type": "markdown",
   "id": "fa4abea3-f610-4ef7-adfe-cd5aa08c4d73",
   "metadata": {},
   "source": [
    "### Using the same data set of Civil_Engineering_Regression_Dataset.csv\n",
    "\n",
    "Part 5: Model Interpretation & Conclusion\n",
    "Summarize the key takeaways from your regression models.\n",
    "How can construction companies use regression analysis to estimate costs more effectively?\n",
    "What limitations did you encounter in this analysis?\n",
    "If you were to improve this model, what additional variables might you consider?\n",
    "How does regression analysis in civil engineering contribute to cost-effective planning?\n",
    "Provide a conclusion on the role of data science in optimizing construction project costs.\n"
   ]
  },
  {
   "cell_type": "code",
   "execution_count": 2,
   "id": "65b6b595-816e-47b4-a1f8-458aefe44b53",
   "metadata": {},
   "outputs": [
    {
     "name": "stderr",
     "output_type": "stream",
     "text": [
      "C:\\Users\\shsva\\AppData\\Local\\Temp\\ipykernel_16996\\1436319994.py:12: FutureWarning: DataFrame.applymap has been deprecated. Use DataFrame.map instead.\n",
      "  df = pd.read_csv(\"Civil_Engineering_Regression_Dataset.csv\").applymap(lambda x: x.strip() if isinstance(x, str) else x)\n"
     ]
    },
    {
     "name": "stdout",
     "output_type": "stream",
     "text": [
      "Simple R²: 0.9251, Multiple R²: 0.9998, MSE: 113.5044, Adjusted R²: 0.9997\n",
      "VIF:                   Feature        VIF\n",
      "0                   const  36.217244\n",
      "1         Building_Height   1.047164\n",
      "2  Material_Quality_Index   1.048067\n",
      "3              Labor_Cost   1.054086\n",
      "4       Concrete_Strength   1.019701\n",
      "5        Foundation_Depth   1.040594\n"
     ]
    }
   ],
   "source": [
    "import pandas as pd\n",
    "import numpy as np\n",
    "import seaborn as sns\n",
    "import matplotlib.pyplot as plt\n",
    "from sklearn.model_selection import train_test_split\n",
    "from sklearn.linear_model import LinearRegression\n",
    "from sklearn.metrics import mean_squared_error, r2_score\n",
    "from statsmodels.stats.outliers_influence import variance_inflation_factor\n",
    "import statsmodels.api as sm\n",
    "\n",
    "# Load dataset\n",
    "df = pd.read_csv(\"Civil_Engineering_Regression_Dataset.csv\").applymap(lambda x: x.strip() if isinstance(x, str) else x)\n",
    "\n",
    "# Define variables\n",
    "dep_var = \"Construction_Cost\"\n",
    "indep_vars = [\"Building_Height\", \"Material_Quality_Index\", \"Labor_Cost\", \"Concrete_Strength\", \"Foundation_Depth\"]\n",
    "X, y = df[indep_vars], df[dep_var]\n",
    "X_train, X_test, y_train, y_test = train_test_split(X, y, test_size=0.2, random_state=42)\n",
    "\n",
    "# Fit models\n",
    "simple_model = LinearRegression().fit(X_train[[\"Building_Height\"]], y_train)\n",
    "model = LinearRegression().fit(X_train, y_train)\n",
    "\n",
    "# Model evaluation\n",
    "simple_r2, multiple_r2 = simple_model.score(X_test[[\"Building_Height\"]], y_test), r2_score(y_test, model.predict(X_test))\n",
    "mse = mean_squared_error(y_test, model.predict(X_test))\n",
    "adj_r2 = 1 - ((1 - multiple_r2) * (len(y_test) - 1) / (len(y_test) - len(indep_vars) - 1))\n",
    "\n",
    "# VIF Calculation\n",
    "X_const = sm.add_constant(X)\n",
    "vif = pd.DataFrame({\"Feature\": X_const.columns, \"VIF\": [variance_inflation_factor(X_const.values, i) for i in range(X_const.shape[1])]})\n",
    "\n",
    "# Results\n",
    "print(f\"Simple R²: {simple_r2:.4f}, Multiple R²: {multiple_r2:.4f}, MSE: {mse:.4f}, Adjusted R²: {adj_r2:.4f}\")\n",
    "print(\"VIF:\", vif)\n"
   ]
  },
  {
   "cell_type": "code",
   "execution_count": null,
   "id": "f1e99f0b-2856-42b2-8446-f998e9a6170a",
   "metadata": {},
   "outputs": [],
   "source": []
  }
 ],
 "metadata": {
  "kernelspec": {
   "display_name": "Python [conda env:base] *",
   "language": "python",
   "name": "conda-base-py"
  },
  "language_info": {
   "codemirror_mode": {
    "name": "ipython",
    "version": 3
   },
   "file_extension": ".py",
   "mimetype": "text/x-python",
   "name": "python",
   "nbconvert_exporter": "python",
   "pygments_lexer": "ipython3",
   "version": "3.12.7"
  }
 },
 "nbformat": 4,
 "nbformat_minor": 5
}
