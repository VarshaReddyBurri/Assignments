{
 "cells": [
  {
   "cell_type": "code",
   "execution_count": 3,
   "id": "2f9e446d-7fc3-4412-9648-31c47b45967a",
   "metadata": {},
   "outputs": [
    {
     "ename": "ModuleNotFoundError",
     "evalue": "No module named 'fuzzywuzzy'",
     "output_type": "error",
     "traceback": [
      "\u001b[1;31m---------------------------------------------------------------------------\u001b[0m",
      "\u001b[1;31mModuleNotFoundError\u001b[0m                       Traceback (most recent call last)",
      "Cell \u001b[1;32mIn[3], line 7\u001b[0m\n\u001b[0;32m      5\u001b[0m \u001b[38;5;28;01mfrom\u001b[39;00m \u001b[38;5;21;01msklearn\u001b[39;00m\u001b[38;5;21;01m.\u001b[39;00m\u001b[38;5;21;01mimpute\u001b[39;00m \u001b[38;5;28;01mimport\u001b[39;00m SimpleImputer\n\u001b[0;32m      6\u001b[0m \u001b[38;5;28;01mfrom\u001b[39;00m \u001b[38;5;21;01msklearn\u001b[39;00m\u001b[38;5;21;01m.\u001b[39;00m\u001b[38;5;21;01mpreprocessing\u001b[39;00m \u001b[38;5;28;01mimport\u001b[39;00m LabelEncoder\n\u001b[1;32m----> 7\u001b[0m \u001b[38;5;28;01mfrom\u001b[39;00m \u001b[38;5;21;01mfuzzywuzzy\u001b[39;00m \u001b[38;5;28;01mimport\u001b[39;00m process\n\u001b[0;32m      9\u001b[0m \u001b[38;5;66;03m# Load dataset # Update with correct path\u001b[39;00m\n\u001b[0;32m     10\u001b[0m df \u001b[38;5;241m=\u001b[39m pd\u001b[38;5;241m.\u001b[39mread_csv(\u001b[38;5;124m\"\u001b[39m\u001b[38;5;124mTours_and_Travels.csv\u001b[39m\u001b[38;5;124m\"\u001b[39m)\n",
      "\u001b[1;31mModuleNotFoundError\u001b[0m: No module named 'fuzzywuzzy'"
     ]
    }
   ],
   "source": [
    "import pandas as pd\n",
    "import numpy as np\n",
    "import seaborn as sns\n",
    "import matplotlib.pyplot as plt\n",
    "from sklearn.impute import SimpleImputer\n",
    "from sklearn.preprocessing import LabelEncoder\n",
    "from fuzzywuzzy import process\n",
    "\n",
    "# Load dataset # Update with correct path\n",
    "df = pd.read_csv(\"Tours_and_Travels.csv\")\n",
    "\n",
    "# Display basic info\n",
    "df.info()\n",
    "\n",
    "# Handle missing values\n",
    "# Fill missing Review_Text with \"No review provided\"\n",
    "df['Review_Text'].fillna(\"No review provided\", inplace=True)\n",
    "\n",
    "# Impute missing numerical values\n",
    "num_imputer = SimpleImputer(strategy='median')\n",
    "df['Customer_Age'] = num_imputer.fit_transform(df[['Customer_Age']])\n",
    "df['Rating'] = df['Rating'].fillna(df['Rating'].mode()[0])  # Fill with mode\n",
    "\n",
    "# Detect and remove duplicates\n",
    "df.drop_duplicates(inplace=True)\n",
    "\n",
    "# Handle inconsistent data\n",
    "# Ensure Rating values are between 1-5\n",
    "df['Rating'] = np.clip(df['Rating'], 1, 5)\n",
    "\n",
    "# Standardize Tour_Package names using fuzzy matching\n",
    "def correct_tour_name(name, choices):\n",
    "    return process.extractOne(name, choices)[0] if pd.notna(name) else name\n",
    "\n",
    "tour_names = df['Tour_Package'].dropna().unique()\n",
    "df['Tour_Package'] = df['Tour_Package'].apply(lambda x: correct_tour_name(x, tour_names))\n",
    "\n",
    "# Identify and handle outliers\n",
    "# Boxplot for detecting anomalies\n",
    "plt.figure(figsize=(10, 5))\n",
    "sns.boxplot(x=df['Package_Price'])\n",
    "plt.show()\n",
    "\n",
    "# Removing extreme outliers using IQR\n",
    "Q1 = df['Package_Price'].quantile(0.25)\n",
    "Q3 = df['Package_Price'].quantile(0.75)\n",
    "IQR = Q3 - Q1\n",
    "lower_bound = Q1 - 1.5 * IQR\n",
    "upper_bound = Q3 + 1.5 * IQR\n",
    "df = df[(df['Package_Price'] >= lower_bound) & (df['Package_Price'] <= upper_bound)]\n",
    "\n",
    "# Prepare data for analysis\n",
    "# Convert categorical data into numerical format\n",
    "encoder = LabelEncoder()\n",
    "df['Tour_Package'] = encoder.fit_transform(df['Tour_Package'])\n",
    "\n",
    "# Save cleaned data\n",
    "df.to_csv(\"Cleaned_Travel_Reviews.csv\", index=False)\n",
    "print(\"Data cleaning complete. File saved as 'Cleaned_Travel_Reviews.csv'\")"
   ]
  },
  {
   "cell_type": "code",
   "execution_count": null,
   "id": "fc84cfe5-d078-43d9-a50c-aa6328c2bb22",
   "metadata": {},
   "outputs": [],
   "source": []
  }
 ],
 "metadata": {
  "kernelspec": {
   "display_name": "Python [conda env:base] *",
   "language": "python",
   "name": "conda-base-py"
  },
  "language_info": {
   "codemirror_mode": {
    "name": "ipython",
    "version": 3
   },
   "file_extension": ".py",
   "mimetype": "text/x-python",
   "name": "python",
   "nbconvert_exporter": "python",
   "pygments_lexer": "ipython3",
   "version": "3.12.7"
  }
 },
 "nbformat": 4,
 "nbformat_minor": 5
}
