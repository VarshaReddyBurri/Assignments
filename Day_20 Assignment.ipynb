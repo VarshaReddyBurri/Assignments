{
 "cells": [
  {
   "cell_type": "markdown",
   "id": "dd1289da-439c-45d8-ad8a-e25a1305d43e",
   "metadata": {},
   "source": [
    "### Assignment 2: Cleaning and Preparing an E-Commerce Customer Reviews Dataset\n",
    "Objective:\n",
    "To clean and prepare a dataset containing customer reviews and ratings of e-commerce products.\n",
    "Instructions:\n",
    "Load the dataset containing customer reviews, ratings, and feedback.\n",
    "Handle missing values:\n",
    "Identify missing values in Review_Text, Rating, and Customer_Age.\n",
    "Impute missing numerical values using appropriate techniques.\n",
    "Use NLP-based techniques to handle missing textual data.\n",
    "Detect and remove duplicates:\n",
    "Use duplicated() to find repeated reviews.\n",
    "Remove or merge duplicate records.\n",
    "Handle inconsistent data:\n",
    "Standardize Rating values (ensure they range between 1-5).\n",
    "Correct spelling inconsistencies in Product_Category.\n",
    "Identify and handle outliers:\n",
    "Use boxplots to find anomalies in Product_Price and Rating.\n",
    "Apply transformation techniques if necessary.\n",
    "Prepare cleaned data for analysis:\n",
    "Convert categorical data into numerical format where required.\n",
    "Save the final cleaned dataset as a CSV file.\n"
   ]
  },
  {
   "cell_type": "code",
   "execution_count": 8,
   "id": "70214a07-6790-4a1a-b16f-f1d1a1c5229b",
   "metadata": {},
   "outputs": [
    {
     "name": "stdout",
     "output_type": "stream",
     "text": [
      "<class 'pandas.core.frame.DataFrame'>\n",
      "RangeIndex: 505 entries, 0 to 504\n",
      "Data columns (total 7 columns):\n",
      " #   Column            Non-Null Count  Dtype  \n",
      "---  ------            --------------  -----  \n",
      " 0   Order_ID          505 non-null    int64  \n",
      " 1   Product_Category  505 non-null    object \n",
      " 2   Product_Price     505 non-null    float64\n",
      " 3   Customer_Age      505 non-null    float64\n",
      " 4   Rating            505 non-null    float64\n",
      " 5   Review_Text       505 non-null    object \n",
      " 6   Order_Date        505 non-null    object \n",
      "dtypes: float64(3), int64(1), object(3)\n",
      "memory usage: 27.7+ KB\n"
     ]
    },
    {
     "name": "stderr",
     "output_type": "stream",
     "text": [
      "C:\\Users\\shsva\\AppData\\Local\\Temp\\ipykernel_1040\\3385304608.py:15: FutureWarning: A value is trying to be set on a copy of a DataFrame or Series through chained assignment using an inplace method.\n",
      "The behavior will change in pandas 3.0. This inplace method will never work because the intermediate object on which we are setting values always behaves as a copy.\n",
      "\n",
      "For example, when doing 'df[col].method(value, inplace=True)', try using 'df.method({col: value}, inplace=True)' or df[col] = df[col].method(value) instead, to perform the operation inplace on the original object.\n",
      "\n",
      "\n",
      "  df['Review_Text'].fillna(\"No review provided\", inplace=True)\n",
      "C:\\Users\\shsva\\AppData\\Local\\Temp\\ipykernel_1040\\3385304608.py:24: FutureWarning: A value is trying to be set on a copy of a DataFrame or Series through chained assignment using an inplace method.\n",
      "The behavior will change in pandas 3.0. This inplace method will never work because the intermediate object on which we are setting values always behaves as a copy.\n",
      "\n",
      "For example, when doing 'df[col].method(value, inplace=True)', try using 'df.method({col: value}, inplace=True)' or df[col] = df[col].method(value) instead, to perform the operation inplace on the original object.\n",
      "\n",
      "\n",
      "  df['Order_Date'].fillna(method='ffill', inplace=True)\n",
      "C:\\Users\\shsva\\AppData\\Local\\Temp\\ipykernel_1040\\3385304608.py:24: FutureWarning: Series.fillna with 'method' is deprecated and will raise in a future version. Use obj.ffill() or obj.bfill() instead.\n",
      "  df['Order_Date'].fillna(method='ffill', inplace=True)\n"
     ]
    },
    {
     "data": {
      "image/png": "[encoded data removed]",
      "text/plain": [
       "<Figure size 1000x500 with 1 Axes>"
      ]
     },
     "metadata": {},
     "output_type": "display_data"
    },
    {
     "name": "stdout",
     "output_type": "stream",
     "text": [
      "Data cleaning complete. File saved as 'E-Commerce_Data.csv'\n"
     ]
    }
   ],
   "source": [
    "import pandas as pd\n",
    "import numpy as np\n",
    "import seaborn as sns\n",
    "import matplotlib.pyplot as plt\n",
    "from sklearn.impute import SimpleImputer\n",
    "from sklearn.preprocessing import LabelEncoder\n",
    "# Load dataset\n",
    "df = pd.read_csv(\"E-Commerce_Data.csv\")\n",
    "\n",
    "# Display basic info\n",
    "df.info()\n",
    "\n",
    "# Handle missing values\n",
    "# Fill missing Review_Text with \"No review provided\"\n",
    "df['Review_Text'].fillna(\"No review provided\", inplace=True)\n",
    "\n",
    "# Impute missing numerical values\n",
    "num_imputer = SimpleImputer(strategy='median')\n",
    "df['Customer_Age'] = num_imputer.fit_transform(df[['Customer_Age']])\n",
    "df['Rating'] = df['Rating'].fillna(df['Rating'].mode()[0])  # Fill with mode\n",
    "df['Product_Price'] = df['Product_Price'].fillna(df['Product_Price'].median())\n",
    "\n",
    "# Forward Fill for date-related fields\n",
    "df['Order_Date'].fillna(method='ffill', inplace=True)\n",
    "\n",
    "# Detect and remove duplicates\n",
    "df.drop_duplicates(inplace=True)\n",
    "\n",
    "# Handle inconsistent data\n",
    "# Ensure Rating values are between 1-5\n",
    "df['Rating'] = np.clip(df['Rating'], 1, 5)\n",
    "\n",
    "\n",
    "# Identify and handle outliers\n",
    "# Boxplot for detecting anomalies\n",
    "plt.figure(figsize=(10, 5))\n",
    "sns.boxplot(x=df['Product_Price'])\n",
    "plt.show()\n",
    "\n",
    "# Removing extreme outliers using IQR\n",
    "Q1 = df['Product_Price'].quantile(0.25)\n",
    "Q3 = df['Product_Price'].quantile(0.75)\n",
    "IQR = Q3 - Q1\n",
    "lower_bound = Q1 - 1.5 * IQR\n",
    "upper_bound = Q3 + 1.5 * IQR\n",
    "df = df[(df['Product_Price'] >= lower_bound) & (df['Product_Price'] <= upper_bound)]\n",
    "\n",
    "# Prepare data for analysis\n",
    "# Convert categorical data into numerical format\n",
    "encoder = LabelEncoder()\n",
    "df['Product_Category'] = encoder.fit_transform(df['Product_Category'])\n",
    "\n",
    "# Save cleaned data\n",
    "df.to_csv(\"E-Commerce_Data.csv\", index=False)\n",
    "print(\"Data cleaning complete. File saved as 'E-Commerce_Data.csv'\")\n"
   ]
  },
  {
   "cell_type": "code",
   "execution_count": null,
   "id": "31e52260-feda-4749-b57a-2d3617caaa69",
   "metadata": {},
   "outputs": [],
   "source": []
  }
 ],
 "metadata": {
  "kernelspec": {
   "display_name": "Python [conda env:base] *",
   "language": "python",
   "name": "conda-base-py"
  },
  "language_info": {
   "codemirror_mode": {
    "name": "ipython",
    "version": 3
   },
   "file_extension": ".py",
   "mimetype": "text/x-python",
   "name": "python",
   "nbconvert_exporter": "python",
   "pygments_lexer": "ipython3",
   "version": "3.12.7"
  }
 },
 "nbformat": 4,
 "nbformat_minor": 5
}
