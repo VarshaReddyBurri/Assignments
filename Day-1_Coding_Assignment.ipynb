{
 "cells": [
  {
   "cell_type": "markdown",
   "id": "1a441302-76d5-4609-aa8e-55bf548a11ad",
   "metadata": {},
   "source": [
    "##1. Jupyter Notebook and Data Types\n",
    "Write a program in Jupyter Notebook to declare variables of different data types (integer, float, string, and boolean). Print each variable and its type.\n"
   ]
  },
  {
   "cell_type": "code",
   "execution_count": 1,
   "id": "714f9ffd-bfa2-4e19-8c9a-804e1211c4cc",
   "metadata": {},
   "outputs": [
    {
     "name": "stdout",
     "output_type": "stream",
     "text": [
      "21 <class 'int'>\n",
      "6.3 <class 'float'>\n",
      "Hello World! <class 'str'>\n",
      "True <class 'bool'>\n"
     ]
    }
   ],
   "source": [
    "a=21\n",
    "b=6.3\n",
    "c=\"Hello World!\"\n",
    "d=True\n",
    "print(a,type(a))\n",
    "print(b,type(b))\n",
    "print(c,type(c))\n",
    "print(d,type(d))"
   ]
  },
  {
   "cell_type": "code",
   "execution_count": null,
   "id": "3a799410-7b64-4965-b7d7-284c823755d0",
   "metadata": {},
   "outputs": [],
   "source": []
  }
 ],
 "metadata": {
  "kernelspec": {
   "display_name": "Python [conda env:base] *",
   "language": "python",
   "name": "conda-base-py"
  },
  "language_info": {
   "codemirror_mode": {
    "name": "ipython",
    "version": 3
   },
   "file_extension": ".py",
   "mimetype": "text/x-python",
   "name": "python",
   "nbconvert_exporter": "python",
   "pygments_lexer": "ipython3",
   "version": "3.12.7"
  }
 },
 "nbformat": 4,
 "nbformat_minor": 5
}
