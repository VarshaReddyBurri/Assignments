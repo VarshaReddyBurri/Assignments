{
 "cells": [
  {
   "cell_type": "markdown",
   "id": "3a582488-5049-4da6-b943-0ec3572c0ea0",
   "metadata": {},
   "source": [
    "### Assignment 2: Cleaning and Preparing Healthcare Data for Analysis\n",
    "Objective:\n",
    "To clean a real-world healthcare dataset by handling inconsistencies, duplicates, and missing values.\n",
    "Instructions:\n",
    "Load the Dataset:\n",
    "Read the healthcare dataset into a Pandas DataFrame.\n",
    "Handle Missing Data:\n",
    "Identify missing values in patient demographics (age, gender, blood pressure, etc.).\n",
    "Apply appropriate imputation methods.\n",
    "Detect and Handle Duplicates:\n",
    "Identify duplicate records using duplicated().\n",
    "Remove or merge duplicates as necessary.\n",
    "Detect and Handle Outliers:\n",
    "Use boxplots to identify extreme values.\n",
    "Apply transformations or capping techniques to handle outliers.\n",
    "Standardize and Normalize Data:\n",
    "Convert categorical variables into numerical representations.\n",
    "Scale numerical variables using Min-Max Scaling or Standard Scaling.\n",
    "Data Validation:\n",
    "Ensure no missing values or duplicates remain.\n",
    "Check data types and correct inconsistencies.\n",
    "Final Data Export:\n",
    "Save the cleaned dataset as a CSV file for further analysis.\n"
   ]
  },
  {
   "cell_type": "code",
   "execution_count": 4,
   "id": "4b617697-a0cb-4c56-9709-68bdc679e8fb",
   "metadata": {},
   "outputs": [
    {
     "name": "stdout",
     "output_type": "stream",
     "text": [
      "Cleaned dataset saved successfully.\n"
     ]
    },
    {
     "name": "stderr",
     "output_type": "stream",
     "text": [
      "C:\\Users\\shsva\\AppData\\Local\\Temp\\ipykernel_9748\\199404543.py:12: FutureWarning: A value is trying to be set on a copy of a DataFrame or Series through chained assignment using an inplace method.\n",
      "The behavior will change in pandas 3.0. This inplace method will never work because the intermediate object on which we are setting values always behaves as a copy.\n",
      "\n",
      "For example, when doing 'df[col].method(value, inplace=True)', try using 'df.method({col: value}, inplace=True)' or df[col] = df[col].method(value) instead, to perform the operation inplace on the original object.\n",
      "\n",
      "\n",
      "  df[col].fillna(df[col].mode()[0], inplace=True)\n"
     ]
    }
   ],
   "source": [
    "import pandas as pd\n",
    "import numpy as np\n",
    "from sklearn.impute import KNNImputer\n",
    "from sklearn.preprocessing import LabelEncoder, MinMaxScaler\n",
    "\n",
    "# Load dataset\n",
    "df = pd.read_csv('Healthcare_Data.csv')\n",
    "\n",
    "# Handle missing values\n",
    "df.fillna(df.median(numeric_only=True), inplace=True)\n",
    "for col in df.select_dtypes(include=['object']):\n",
    "    df[col].fillna(df[col].mode()[0], inplace=True)\n",
    "\n",
    "# Remove duplicates\n",
    "df.drop_duplicates(inplace=True)\n",
    "\n",
    "# Encode categorical variables\n",
    "for col in df.select_dtypes(include=['object']):\n",
    "    df[col] = LabelEncoder().fit_transform(df[col])\n",
    "\n",
    "# Scale numerical data\n",
    "df[df.select_dtypes(include=['float64', 'int64']).columns] = MinMaxScaler().fit_transform(df.select_dtypes(include=['float64', 'int64']))\n",
    "\n",
    "# Save cleaned dataset\n",
    "df.to_csv('Healthcare_Data.csv', index=False)\n",
    "print(\"Cleaned dataset saved successfully.\")\n"
   ]
  },
  {
   "cell_type": "code",
   "execution_count": null,
   "id": "cec1f68d-667e-44e6-88ca-64c1e186fc1c",
   "metadata": {},
   "outputs": [],
   "source": []
  }
 ],
 "metadata": {
  "kernelspec": {
   "display_name": "Python [conda env:base] *",
   "language": "python",
   "name": "conda-base-py"
  },
  "language_info": {
   "codemirror_mode": {
    "name": "ipython",
    "version": 3
   },
   "file_extension": ".py",
   "mimetype": "text/x-python",
   "name": "python",
   "nbconvert_exporter": "python",
   "pygments_lexer": "ipython3",
   "version": "3.12.7"
  }
 },
 "nbformat": 4,
 "nbformat_minor": 5
}
