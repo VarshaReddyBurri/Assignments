{
 "cells": [
  {
   "cell_type": "markdown",
   "id": "f35f35b1-96d1-4edd-9268-46c497ad27d3",
   "metadata": {},
   "source": [
    "#### Assignment 1: Handling Missing Data in a Tour Bookings Dataset\n",
    "Objective:\n",
    "To analyze and clean a travel booking dataset by identifying and handling missing values using various imputation techniques.\n",
    "Instructions:\n",
    "Load the provided dataset into Pandas.\n",
    "Identify missing data:\n",
    "Use isna() and info() functions to detect missing values.\n",
    "Compute the percentage of missing values for each column.\n",
    "Analyze missing data patterns:\n",
    "Determine whether data is MCAR, MAR, or MNAR.\n",
    "Visualize missing data patterns using seaborn.heatmap().\n",
    "Handle missing values:\n",
    "Apply different imputation techniques:\n",
    "Mean/Median imputation for numerical columns (e.g., Package_Price).\n",
    "Mode imputation for categorical columns (e.g., Destination).\n",
    "Forward fill or backward fill for date-related fields.\n",
    "K-Nearest Neighbors (KNN) imputation for complex cases.\n",
    "Evaluate the impact:\n",
    "Compare summary statistics before and after imputation.\n",
    "Visualize the imputed values using histograms or boxplots.\n",
    "Prepare a report:\n",
    "Document findings, methods used, and final observations.\n",
    "Submit a Jupyter Notebook with the cleaned dataset.\n"
   ]
  },
  {
   "cell_type": "code",
   "execution_count": 4,
   "id": "969b749d-48b5-4756-af83-a3ad9630af2d",
   "metadata": {},
   "outputs": [
    {
     "name": "stdout",
     "output_type": "stream",
     "text": [
      "Cleaned dataset saved successfully.\n"
     ]
    },
    {
     "name": "stderr",
     "output_type": "stream",
     "text": [
      "C:\\Users\\shsva\\AppData\\Local\\Temp\\ipykernel_22000\\3989479830.py:11: FutureWarning: A value is trying to be set on a copy of a DataFrame or Series through chained assignment using an inplace method.\n",
      "The behavior will change in pandas 3.0. This inplace method will never work because the intermediate object on which we are setting values always behaves as a copy.\n",
      "\n",
      "For example, when doing 'df[col].method(value, inplace=True)', try using 'df.method({col: value}, inplace=True)' or df[col] = df[col].method(value) instead, to perform the operation inplace on the original object.\n",
      "\n",
      "\n",
      "  df[col].fillna(df[col].mode()[0], inplace=True)\n",
      "C:\\Users\\shsva\\AppData\\Local\\Temp\\ipykernel_22000\\3989479830.py:15: FutureWarning: DataFrame.fillna with 'method' is deprecated and will raise in a future version. Use obj.ffill() or obj.bfill() instead.\n",
      "  df[date_cols] = df[date_cols].fillna(method='ffill')\n"
     ]
    }
   ],
   "source": [
    "import pandas as pd\n",
    "import numpy as np\n",
    "from sklearn.impute import KNNImputer\n",
    "\n",
    "# Load dataset\n",
    "df = pd.read_csv('Tours_and_Travels.csv')\n",
    "\n",
    "# Handle missing values\n",
    "df.fillna(df.median(numeric_only=True), inplace=True)\n",
    "for col in df.select_dtypes(include=['object']):\n",
    "    df[col].fillna(df[col].mode()[0], inplace=True)\n",
    "\n",
    "# Forward fill for date-related fields\n",
    "date_cols = [col for col in df.columns if 'date' in col.lower()]\n",
    "df[date_cols] = df[date_cols].fillna(method='ffill')\n",
    "\n",
    "# KNN Imputation\n",
    "knn_imputer = KNNImputer(n_neighbors=5)\n",
    "df[df.select_dtypes(include=['float64', 'int64']).columns] = knn_imputer.fit_transform(df.select_dtypes(include=['float64', 'int64']))\n",
    "\n",
    "# Save cleaned dataset\n",
    "df.to_csv('Tours_and_Travels.csv', index=False)\n",
    "print(\"Cleaned dataset saved successfully.\")\n"
   ]
  },
  {
   "cell_type": "code",
   "execution_count": null,
   "id": "8bb446c9-a651-4f2d-87f1-de92249c8799",
   "metadata": {},
   "outputs": [],
   "source": []
  }
 ],
 "metadata": {
  "kernelspec": {
   "display_name": "Python [conda env:base] *",
   "language": "python",
   "name": "conda-base-py"
  },
  "language_info": {
   "codemirror_mode": {
    "name": "ipython",
    "version": 3
   },
   "file_extension": ".py",
   "mimetype": "text/x-python",
   "name": "python",
   "nbconvert_exporter": "python",
   "pygments_lexer": "ipython3",
   "version": "3.12.7"
  }
 },
 "nbformat": 4,
 "nbformat_minor": 5
}
