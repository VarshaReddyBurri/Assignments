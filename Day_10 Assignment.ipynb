{
 "cells": [
  {
   "cell_type": "markdown",
   "id": "88ca502c-6f48-4935-bc12-bbc9d99c52c8",
   "metadata": {},
   "source": [
    "# Assignment 1: Filtering Data Based on Conditions\n",
    "Tasks:\n",
    "Filter out all rows where the Transaction_Amount is greater than 2000.\n",
    "Find all rows where the Transaction_Type is \"Loan Payment\" and the Account_Balance is greater than 5000.\n",
    "Extract transactions made in the \"Uptown\" branch.\n",
    "Objective:\n",
    "Practice filtering data using conditions and boolean indexing.\n",
    "\n"
   ]
  },
  {
   "cell_type": "code",
   "execution_count": 1,
   "id": "9a826ea2-ddcd-4b70-9b6c-f444895af593",
   "metadata": {},
   "outputs": [
    {
     "name": "stdout",
     "output_type": "stream",
     "text": [
      "Filtered Data 1 (Amount <= 2000):\n",
      "    Transaction_ID  Transaction_Amount Transaction_Type  Account_Balance  \\\n",
      "0               1                1000     Loan Payment             6000   \n",
      "2               3                1500     Loan Payment             7000   \n",
      "4               5                 500     Loan Payment             5500   \n",
      "\n",
      "     Branch  \n",
      "0  Downtown  \n",
      "2    Uptown  \n",
      "4    Uptown  \n",
      "\n",
      "Filtered Data 2 (Loan Payment and Balance > 5000):\n",
      "    Transaction_ID  Transaction_Amount Transaction_Type  Account_Balance  \\\n",
      "0               1                1000     Loan Payment             6000   \n",
      "2               3                1500     Loan Payment             7000   \n",
      "4               5                 500     Loan Payment             5500   \n",
      "\n",
      "     Branch  \n",
      "0  Downtown  \n",
      "2    Uptown  \n",
      "4    Uptown  \n",
      "\n",
      "Filtered Data 3 (Uptown Branch Transactions):\n",
      "    Transaction_ID  Transaction_Amount Transaction_Type  Account_Balance  \\\n",
      "1               2                2500          Deposit             3000   \n",
      "2               3                1500     Loan Payment             7000   \n",
      "4               5                 500     Loan Payment             5500   \n",
      "\n",
      "   Branch  \n",
      "1  Uptown  \n",
      "2  Uptown  \n",
      "4  Uptown  \n"
     ]
    }
   ],
   "source": [
    "import pandas as pd\n",
    "\n",
    "# Example DataFrame\n",
    "data = {\n",
    "    'Transaction_ID': [1, 2, 3, 4, 5],\n",
    "    'Transaction_Amount': [1000, 2500, 1500, 3000, 500],\n",
    "    'Transaction_Type': ['Loan Payment', 'Deposit', 'Loan Payment', 'Withdrawal', 'Loan Payment'],\n",
    "    'Account_Balance': [6000, 3000, 7000, 4000, 5500],\n",
    "    'Branch': ['Downtown', 'Uptown', 'Uptown', 'Downtown', 'Uptown']\n",
    "}\n",
    "\n",
    "df = pd.DataFrame(data)\n",
    "\n",
    "# 1. Filter out rows where Transaction_Amount is greater than 2000\n",
    "filtered_df_1 = df[df['Transaction_Amount'] <= 2000]\n",
    "\n",
    "# 2. Find rows where Transaction_Type is \"Loan Payment\" and Account_Balance > 5000\n",
    "filtered_df_2 = df[(df['Transaction_Type'] == 'Loan Payment') & (df['Account_Balance'] > 5000)]\n",
    "\n",
    "# 3. Extract transactions made in the \"Uptown\" branch\n",
    "filtered_df_3 = df[df['Branch'] == 'Uptown']\n",
    "\n",
    "# Display the filtered data\n",
    "print(\"Filtered Data 1 (Amount <= 2000):\\n\", filtered_df_1)\n",
    "print(\"\\nFiltered Data 2 (Loan Payment and Balance > 5000):\\n\", filtered_df_2)\n",
    "print(\"\\nFiltered Data 3 (Uptown Branch Transactions):\\n\", filtered_df_3)\n",
    "\n",
    "\n"
   ]
  },
  {
   "cell_type": "markdown",
   "id": "023dcc1f-03e7-407f-8ac6-62a6fc812f92",
   "metadata": {},
   "source": [
    "#### Assignment 2: Data Transformation \n",
    "- Tasks:\n",
    "Add a new column called Transaction_Fee, calculated as 2% of Transaction_Amount.\n",
    "Create a new column Balance_Status:\n",
    "If Account_Balance is greater than 5000, label it as \"High Balance\".\n",
    "Otherwise, label it as \"Low Balance\".\n",
    "-Objective:\n",
    "Learn how to create new columns and apply transformations based on existing data.\n"
   ]
  },
  {
   "cell_type": "code",
   "execution_count": 5,
   "id": "7ced9920-386f-465a-90b9-3406f0789fe6",
   "metadata": {},
   "outputs": [
    {
     "name": "stdout",
     "output_type": "stream",
     "text": [
      "   Transaction_ID  Transaction_Amount Transaction_Type  Account_Balance  \\\n",
      "0               1                1000     Loan Payment             6000   \n",
      "1               2                2500          Deposit             3000   \n",
      "2               3                1500     Loan Payment             7000   \n",
      "3               4                3000       Withdrawal             4000   \n",
      "4               5                 500     Loan Payment             5500   \n",
      "\n",
      "     Branch  Transaction_Fee Balance_Status  \n",
      "0  Downtown             20.0   High Balance  \n",
      "1    Uptown             50.0    Low Balance  \n",
      "2    Uptown             30.0   High Balance  \n",
      "3  Downtown             60.0    Low Balance  \n",
      "4    Uptown             10.0   High Balance  \n"
     ]
    }
   ],
   "source": [
    "import pandas as pd\n",
    "\n",
    "# Sample DataFrame\n",
    "data = {\n",
    "    'Transaction_ID': [1, 2, 3, 4, 5],\n",
    "    'Transaction_Amount': [1000, 2500, 1500, 3000, 500],\n",
    "    'Transaction_Type': ['Loan Payment', 'Deposit', 'Loan Payment', 'Withdrawal', 'Loan Payment'],\n",
    "    'Account_Balance': [6000, 3000, 7000, 4000, 5500],\n",
    "    'Branch': ['Downtown', 'Uptown', 'Uptown', 'Downtown', 'Uptown']\n",
    "}\n",
    "\n",
    "df = pd.DataFrame(data)\n",
    "\n",
    "# 1. Add a new column 'Transaction_Fee' (2% of Transaction_Amount)\n",
    "df['Transaction_Fee'] = df['Transaction_Amount'] * 0.02\n",
    "\n",
    "# 2. Create a new column 'Balance_Status'\n",
    "df['Balance_Status'] = df['Account_Balance'].apply(lambda x: 'High Balance' if x > 5000 else 'Low Balance')\n",
    "\n",
    "# Display the transformed DataFrame\n",
    "print(df)\n"
   ]
  },
  {
   "cell_type": "code",
   "execution_count": null,
   "id": "8f76e1ea-6ab5-45ad-85f3-743741632ff3",
   "metadata": {},
   "outputs": [],
   "source": []
  }
 ],
 "metadata": {
  "kernelspec": {
   "display_name": "Python [conda env:base] *",
   "language": "python",
   "name": "conda-base-py"
  },
  "language_info": {
   "codemirror_mode": {
    "name": "ipython",
    "version": 3
   },
   "file_extension": ".py",
   "mimetype": "text/x-python",
   "name": "python",
   "nbconvert_exporter": "python",
   "pygments_lexer": "ipython3",
   "version": "3.12.7"
  }
 },
 "nbformat": 4,
 "nbformat_minor": 5
}
