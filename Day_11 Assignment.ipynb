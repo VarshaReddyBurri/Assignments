{
 "cells": [
  {
   "cell_type": "markdown",
   "id": "aa4c2b59-7e3a-420e-a543-debd2a865f11",
   "metadata": {},
   "source": [
    "#### Assignment 1: Sorting and Ranking Data\n",
    "Tasks:\n",
    "Sort the dataset by Account_Balance in descending order and display the first 10 rows.\n",
    "Create a ranking column for Transaction_Amount within each Branch:\n",
    "Use rank() to give ranks for transactions based on their amounts within each branch.\n",
    "Objective:\n",
    "Learn how to sort data and apply ranking based on certain columns.\n"
   ]
  },
  {
   "cell_type": "code",
   "execution_count": 2,
   "id": "b0fdd40e-852c-472c-8079-3a1d3196d65a",
   "metadata": {},
   "outputs": [
    {
     "name": "stdout",
     "output_type": "stream",
     "text": [
      "Top 10 rows sorted by Account_Balance:\n",
      "    Transaction_ID  Transaction_Amount Transaction_Type  Account_Balance  \\\n",
      "7               8                6000     Loan Payment            10000   \n",
      "5               6                4500          Deposit             8000   \n",
      "2               3                1500     Loan Payment             7000   \n",
      "0               1                1000     Loan Payment             6000   \n",
      "4               5                 500     Loan Payment             5500   \n",
      "3               4                3000       Withdrawal             4000   \n",
      "1               2                2500          Deposit             3000   \n",
      "9              10                 700       Withdrawal             2500   \n",
      "6               7                1200       Withdrawal             2000   \n",
      "8               9                 800          Deposit             1500   \n",
      "\n",
      "     Branch  \n",
      "7    Uptown  \n",
      "5  Downtown  \n",
      "2    Uptown  \n",
      "0  Downtown  \n",
      "4    Uptown  \n",
      "3  Downtown  \n",
      "1    Uptown  \n",
      "9    Uptown  \n",
      "6    Uptown  \n",
      "8  Downtown  \n",
      "\n",
      "DataFrame with Transaction Ranking within each Branch:\n",
      "    Transaction_ID  Transaction_Amount Transaction_Type  Account_Balance  \\\n",
      "0               1                1000     Loan Payment             6000   \n",
      "1               2                2500          Deposit             3000   \n",
      "2               3                1500     Loan Payment             7000   \n",
      "3               4                3000       Withdrawal             4000   \n",
      "4               5                 500     Loan Payment             5500   \n",
      "5               6                4500          Deposit             8000   \n",
      "6               7                1200       Withdrawal             2000   \n",
      "7               8                6000     Loan Payment            10000   \n",
      "8               9                 800          Deposit             1500   \n",
      "9              10                 700       Withdrawal             2500   \n",
      "\n",
      "     Branch  Transaction_Rank  \n",
      "0  Downtown               3.0  \n",
      "1    Uptown               2.0  \n",
      "2    Uptown               3.0  \n",
      "3  Downtown               2.0  \n",
      "4    Uptown               6.0  \n",
      "5  Downtown               1.0  \n",
      "6    Uptown               4.0  \n",
      "7    Uptown               1.0  \n",
      "8  Downtown               4.0  \n",
      "9    Uptown               5.0  \n"
     ]
    }
   ],
   "source": [
    "import pandas as pd\n",
    "\n",
    "# Sample DataFrame\n",
    "data = {\n",
    "    'Transaction_ID': [1, 2, 3, 4, 5, 6, 7, 8, 9, 10],\n",
    "    'Transaction_Amount': [1000, 2500, 1500, 3000, 500, 4500, 1200, 6000, 800, 700],\n",
    "    'Transaction_Type': ['Loan Payment', 'Deposit', 'Loan Payment', 'Withdrawal', 'Loan Payment',\n",
    "                         'Deposit', 'Withdrawal', 'Loan Payment', 'Deposit', 'Withdrawal'],\n",
    "    'Account_Balance': [6000, 3000, 7000, 4000, 5500, 8000, 2000, 10000, 1500, 2500],\n",
    "    'Branch': ['Downtown', 'Uptown', 'Uptown', 'Downtown', 'Uptown',\n",
    "               'Downtown', 'Uptown', 'Uptown', 'Downtown', 'Uptown']\n",
    "}\n",
    "\n",
    "df = pd.DataFrame(data)\n",
    "\n",
    "# 1. Sort the dataset by Account_Balance in descending order and display the top 10 rows\n",
    "sorted_df = df.sort_values(by='Account_Balance', ascending=False)\n",
    "top_10_rows = sorted_df.head(10)\n",
    "\n",
    "# 2. Rank transactions within each branch based on Transaction_Amount\n",
    "df['Transaction_Rank'] = df.groupby('Branch')['Transaction_Amount'].rank(ascending=False, method='dense')\n",
    "\n",
    "# Display results\n",
    "print(\"Top 10 rows sorted by Account_Balance:\\n\", top_10_rows)\n",
    "print(\"\\nDataFrame with Transaction Ranking within each Branch:\\n\", df)\n"
   ]
  },
  {
   "cell_type": "code",
   "execution_count": null,
   "id": "63b184df-240e-4ccc-a0cc-216974c7612b",
   "metadata": {},
   "outputs": [],
   "source": []
  }
 ],
 "metadata": {
  "kernelspec": {
   "display_name": "Python [conda env:base] *",
   "language": "python",
   "name": "conda-base-py"
  },
  "language_info": {
   "codemirror_mode": {
    "name": "ipython",
    "version": 3
   },
   "file_extension": ".py",
   "mimetype": "text/x-python",
   "name": "python",
   "nbconvert_exporter": "python",
   "pygments_lexer": "ipython3",
   "version": "3.12.7"
  }
 },
 "nbformat": 4,
 "nbformat_minor": 5
}
