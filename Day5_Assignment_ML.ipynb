{
 "cells": [
  {
   "cell_type": "markdown",
   "id": "8198c202-876f-46e4-8eaf-0a510112b1e2",
   "metadata": {},
   "source": [
    "# 1)Write a Python program that performs the following tasks:\n",
    "\n",
    "1. Ask the user to enter a positive integer `n`.\n",
    "2. Use a `for` loop to print all numbers from `1` to `n` on separate lines.\n",
    "3. Use a `while` loop to calculate the sum of all numbers from `1` to `n` and print the result.\n"
   ]
  },
  {
   "cell_type": "code",
   "execution_count": 2,
   "id": "a6c7452f-2416-49e9-8bad-57838f3f5606",
   "metadata": {},
   "outputs": [
    {
     "name": "stdin",
     "output_type": "stream",
     "text": [
      "Enter a positive integer n:  25\n"
     ]
    },
    {
     "name": "stdout",
     "output_type": "stream",
     "text": [
      "Numbers from 1 to 25\n",
      "1\n",
      "2\n",
      "3\n",
      "4\n",
      "5\n",
      "6\n",
      "7\n",
      "8\n",
      "9\n",
      "10\n",
      "11\n",
      "12\n",
      "13\n",
      "14\n",
      "15\n",
      "16\n",
      "17\n",
      "18\n",
      "19\n",
      "20\n",
      "21\n",
      "22\n",
      "23\n",
      "24\n",
      "25\n",
      "The sum of numbers from 1 to 25 is: 325\n"
     ]
    }
   ],
   "source": [
    "n = int(input(\"Enter a positive integer n: \"))\n",
    "print(\"Numbers from 1 to\", n)\n",
    "for i in range(1, n + 1):\n",
    "    print(i)\n",
    "sum_numbers = 0\n",
    "i = 1\n",
    "while i <= n:\n",
    "    sum_numbers += i\n",
    "    i += 1\n",
    "print(\"The sum of numbers from 1 to\", n, \"is:\", sum_numbers)\n"
   ]
  },
  {
   "cell_type": "markdown",
   "id": "d301397e-96db-423c-9bb1-216a2236d11c",
   "metadata": {},
   "source": [
    "# 2)Write a Python program that includes a user-defined function to perform the following tasks:\n",
    "\n",
    "1. Define a function named calculate_square that takes a single argument `n` and returns the square of `n`.\n",
    "2. In the main program, ask the user to input a positive integer.\n",
    "3. Call the calculate_square function with the user-provided number and display the result.\n"
   ]
  },
  {
   "cell_type": "code",
   "execution_count": 5,
   "id": "46d6e218-2778-4aa4-a2a7-d06985daa68c",
   "metadata": {},
   "outputs": [
    {
     "name": "stdin",
     "output_type": "stream",
     "text": [
      "Enter a positive integer:  21\n"
     ]
    },
    {
     "name": "stdout",
     "output_type": "stream",
     "text": [
      "The square of 21 is: 441\n"
     ]
    }
   ],
   "source": [
    "def calculate_square(n):\n",
    "    return n ** 2 \n",
    "n = int(input(\"Enter a positive integer: \"))\n",
    "square = calculate_square(n)\n",
    "print(f\"The square of {n} is: {square}\")\n"
   ]
  },
  {
   "cell_type": "code",
   "execution_count": null,
   "id": "2c3ac9a6-42cd-4453-b1be-ebefc578a3f8",
   "metadata": {},
   "outputs": [],
   "source": []
  }
 ],
 "metadata": {
  "kernelspec": {
   "display_name": "Python [conda env:base] *",
   "language": "python",
   "name": "conda-base-py"
  },
  "language_info": {
   "codemirror_mode": {
    "name": "ipython",
    "version": 3
   },
   "file_extension": ".py",
   "mimetype": "text/x-python",
   "name": "python",
   "nbconvert_exporter": "python",
   "pygments_lexer": "ipython3",
   "version": "3.12.7"
  }
 },
 "nbformat": 4,
 "nbformat_minor": 5
}
