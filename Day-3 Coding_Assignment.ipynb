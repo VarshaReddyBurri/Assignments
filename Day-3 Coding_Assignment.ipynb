{
 "cells": [
  {
   "cell_type": "markdown",
   "id": "0e8700b8-7be9-41eb-be5b-36965f6184b0",
   "metadata": {},
   "source": [
    "## 3)Write a Python program that takes a student's marks in three subjects as input.\n",
    "##       If the average is greater than or equal to 90, print \"Grade: A\".\n",
    "##       If the average is between 80 and 89, print \"Grade: B\".\n",
    "##       If the average is between 70 and 79, print \"Grade: C\".\n",
    "##       Otherwise, print \"Grade: Fail\".\n"
   ]
  },
  {
   "cell_type": "code",
   "execution_count": 6,
   "id": "f2c4ba2f-c8bb-47b8-9704-0aa1f126fbd4",
   "metadata": {},
   "outputs": [
    {
     "name": "stdin",
     "output_type": "stream",
     "text": [
      "Enter marks for Maths:  92\n",
      "Enter marks for Physics:  89.4\n",
      "Enter marks for Biology:  78.2\n"
     ]
    },
    {
     "name": "stdout",
     "output_type": "stream",
     "text": [
      "86.53333333333335\n",
      "Grade: B\n"
     ]
    }
   ],
   "source": [
    "\n",
    "subject_1 = float(input(\"Enter marks for Maths: \"))\n",
    "subject_2 = float(input(\"Enter marks for Physics: \"))\n",
    "subject_3 = float(input(\"Enter marks for Biology: \"))\n",
    "\n",
    "\n",
    "average_marks = (subject_1 + subject_2 + subject_3) / 3\n",
    "print(average_marks)\n",
    "if average_marks >= 90:\n",
    "    print(\"Grade: A\")\n",
    "elif average_marks < 90:\n",
    "    print(\"Grade: B\")\n",
    "elif average_marks < 80:\n",
    "    print(\"Grade: C\")\n",
    "else:\n",
    "    print(\"Grade: Fail\")\n"
   ]
  },
  {
   "cell_type": "code",
   "execution_count": null,
   "id": "62af550d-1daa-441b-b950-ae991f910828",
   "metadata": {},
   "outputs": [],
   "source": []
  }
 ],
 "metadata": {
  "kernelspec": {
   "display_name": "Python [conda env:base] *",
   "language": "python",
   "name": "conda-base-py"
  },
  "language_info": {
   "codemirror_mode": {
    "name": "ipython",
    "version": 3
   },
   "file_extension": ".py",
   "mimetype": "text/x-python",
   "name": "python",
   "nbconvert_exporter": "python",
   "pygments_lexer": "ipython3",
   "version": "3.12.7"
  }
 },
 "nbformat": 4,
 "nbformat_minor": 5
}
